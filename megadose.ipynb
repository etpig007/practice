{
 "cells": [
  {
   "cell_type": "code",
   "execution_count": 1,
   "metadata": {},
   "outputs": [],
   "source": [
    "#megadose calculator by Guan-Chyuan Wang\n",
    "import tkinter as tk\n",
    "from tkinter import Label, Entry, DoubleVar, Button\n",
    "mainWin = tk.Tk()\n",
    "mainWin.title('Mega dose methylprednisolone cal')\n",
    "mainWin.geometry('400x350')\n",
    "\n",
    "BW = DoubleVar()\n",
    "BW.set(50)\n",
    "FifteenMins = DoubleVar()\n",
    "Twentythreehrs = DoubleVar()\n",
    "total_dose = DoubleVar()\n",
    "num_amp = DoubleVar()\n",
    "\n",
    "\n",
    "def cal_dose():\n",
    "    Bw = BW.get()\n",
    "    total_dose.set(round(Bw*30 + Bw*5.4*23,1))\n",
    "    num_amp.set(round(total_dose.get()/500,1))\n",
    "    FifteenMins.set(round((500*30)*4/(30+5.4*23),1))\n",
    "    Twentythreehrs.set(round((500*5.4*23)/(30+5.4*23)/23,1))\n",
    "\n",
    "Label1 = Label(mainWin,text='Input patient\\'s weight')\n",
    "Label1.grid(column=0, row=0, padx=10, pady=5)\n",
    "Entry1 = Entry(mainWin, textvariable=BW, width=8)\n",
    "Entry1.grid(column=1, row=0, padx=10, pady=5)\n",
    "\n",
    "btn = Button(text = 'Calulate',command = cal_dose)\n",
    "btn.place(x=250, y=250)\n",
    "\n",
    "Label2 = Label(mainWin, text='總methylprednisolone劑量(mg):')\n",
    "Label2.grid(column=0, row=1,padx=10, pady=5)\n",
    "Entry2 = Entry(mainWin, textvariable=total_dose,width=8)\n",
    "Entry2.grid(column=1, row=1,padx=10, pady=5)\n",
    "\n",
    "Label3 = Label(mainWin, text='需要幾隻500mg methylprednisolone:')\n",
    "Label3.grid(column=0, row=2,padx=10, pady=5)\n",
    "Entry3 = Entry(mainWin, textvariable=num_amp,width=8)\n",
    "Entry3.grid(column=1, row=2,padx=10, pady=5)\n",
    "\n",
    "\n",
    "Label4 = Label(mainWin, text='前15分鐘run(ml/hr): ')\n",
    "Label4.grid(column=0, row=3,padx=10, pady=5)\n",
    "Entry4 = Entry(mainWin, textvariable=FifteenMins,width=8)\n",
    "Entry4.grid(column=1, row=3,padx=10, pady=5)\n",
    "\n",
    "Label5 = Label(mainWin, text='休息45分鐘')\n",
    "Label5.grid(column=0, row=4,padx=10, pady=5)\n",
    "\n",
    "Label6 = Label(mainWin, text='接下來23小時run(ml/hr): ')\n",
    "Label6.grid(column=0, row=5,padx=10, pady=5)\n",
    "Entry5 = Entry(mainWin, textvariable=Twentythreehrs,width=8)\n",
    "Entry5.grid(column=1, row=5,padx=10, pady=5)\n",
    "\n",
    "\n",
    "\n",
    "\n",
    "\n",
    "mainWin = tk.mainloop()\n"
   ]
  },
  {
   "cell_type": "code",
   "execution_count": null,
   "metadata": {},
   "outputs": [],
   "source": []
  },
  {
   "cell_type": "code",
   "execution_count": null,
   "metadata": {},
   "outputs": [],
   "source": []
  }
 ],
 "metadata": {
  "kernelspec": {
   "display_name": "Python 3",
   "language": "python",
   "name": "python3"
  },
  "language_info": {
   "codemirror_mode": {
    "name": "ipython",
    "version": 3
   },
   "file_extension": ".py",
   "mimetype": "text/x-python",
   "name": "python",
   "nbconvert_exporter": "python",
   "pygments_lexer": "ipython3",
   "version": "3.8.5"
  }
 },
 "nbformat": 4,
 "nbformat_minor": 4
}
